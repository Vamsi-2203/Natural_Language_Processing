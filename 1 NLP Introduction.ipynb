{
 "cells": [
  {
   "cell_type": "markdown",
   "id": "f5e99dba-fa09-430a-827a-bcc8391d3dec",
   "metadata": {},
   "source": [
    "# Nature Language Processing ( NLP )"
   ]
  },
  {
   "cell_type": "markdown",
   "id": "0a8221dd-6556-464f-8501-0757319afbc7",
   "metadata": {},
   "source": [
    "\n",
    "- Natural Language Processing (NLP) is a fascinating field that sits at the intersection of artificial intelligence, linguistics, and computer science.\n",
    "- It deals with the interaction between computers and humans using natural language.\n",
    "- Here's a basic introduction to NLP"
   ]
  },
  {
   "cell_type": "markdown",
   "id": "f8f452d2-4c26-47d0-ade9-4066fa57a7d2",
   "metadata": {},
   "source": [
    "**Definition:**  NLP is a branch of artificial intelligence that enables computers to understand, interpret, and generate human language in a way that is both meaningful and useful."
   ]
  },
  {
   "cell_type": "markdown",
   "id": "06fc4003-1a5c-47b9-a177-88d4b529779b",
   "metadata": {},
   "source": [
    "## NLP Techniques\n",
    "- Stemming\n",
    "- Lemmatization\n",
    "- Term Frequency-Inverse Document Frequency (TF-IDF)\n",
    "- Bag of Words\n",
    "- Word2Vec\n",
    "- Word Embeddings\n",
    "- Skip Grams\n",
    "- CBOW"
   ]
  },
  {
   "cell_type": "markdown",
   "id": "849fdd3c-814c-4dd6-9d4e-a61b78057568",
   "metadata": {},
   "source": [
    "## Application of NLP\n",
    "\n",
    "- Sentiment Analysis\n",
    "- Machine Translation\n",
    "- Text Summarization\n",
    "- Question Answering\n",
    "- Healthcare"
   ]
  },
  {
   "cell_type": "markdown",
   "id": "a17e7b31-b62a-41c0-942d-e8326ef47a38",
   "metadata": {},
   "source": [
    "## Advantages of NLP\n",
    "\n",
    "- Automation\n",
    "- Insight Extraction\n",
    "- Personalization\n",
    "- Language Translation"
   ]
  },
  {
   "cell_type": "markdown",
   "id": "09326b93-cae3-4de1-899f-93be000a52ec",
   "metadata": {},
   "source": [
    "## Disadvantages of NLP\n",
    "\n",
    "- Data Quality and Bias\n",
    "- Privacy Concerns\n",
    "- Lack of Domain Specificity\n"
   ]
  },
  {
   "cell_type": "code",
   "execution_count": null,
   "id": "67c954f6-a427-4370-b212-51662d1b58fe",
   "metadata": {},
   "outputs": [],
   "source": []
  },
  {
   "cell_type": "markdown",
   "id": "42ed5533-7ede-409d-bb5d-c4df79d8a8d9",
   "metadata": {},
   "source": [
    "# NLP Libraries Installzation"
   ]
  },
  {
   "cell_type": "markdown",
   "id": "ae5df628-3ad6-4d1d-81d3-c7b8ad09edc1",
   "metadata": {},
   "source": [
    "## 1) NLTK (Natural Language Toolkit)\n",
    "- NLTK is a comprehensive library for building Python programs to work with human language data."
   ]
  },
  {
   "cell_type": "code",
   "execution_count": 1,
   "id": "d213498d-da8e-436b-947c-b807f4876943",
   "metadata": {},
   "outputs": [
    {
     "name": "stdout",
     "output_type": "stream",
     "text": [
      "Requirement already satisfied: nltk in c:\\users\\user\\anaconda3\\lib\\site-packages (3.8.1)\n",
      "Requirement already satisfied: click in c:\\users\\user\\anaconda3\\lib\\site-packages (from nltk) (8.1.7)\n",
      "Requirement already satisfied: joblib in c:\\users\\user\\anaconda3\\lib\\site-packages (from nltk) (1.2.0)\n",
      "Requirement already satisfied: regex>=2021.8.3 in c:\\users\\user\\anaconda3\\lib\\site-packages (from nltk) (2023.10.3)\n",
      "Requirement already satisfied: tqdm in c:\\users\\user\\anaconda3\\lib\\site-packages (from nltk) (4.65.0)\n",
      "Requirement already satisfied: colorama in c:\\users\\user\\anaconda3\\lib\\site-packages (from click->nltk) (0.4.6)\n"
     ]
    }
   ],
   "source": [
    "!pip install nltk"
   ]
  },
  {
   "cell_type": "code",
   "execution_count": 2,
   "id": "2f12937c-6de5-4255-9e5e-32b36b54540e",
   "metadata": {},
   "outputs": [
    {
     "name": "stderr",
     "output_type": "stream",
     "text": [
      "[nltk_data] Downloading package punkt to\n",
      "[nltk_data]     C:\\Users\\USER\\AppData\\Roaming\\nltk_data...\n",
      "[nltk_data]   Unzipping tokenizers\\punkt.zip.\n"
     ]
    },
    {
     "name": "stdout",
     "output_type": "stream",
     "text": [
      "['Hello', ',', 'world', '!']\n"
     ]
    }
   ],
   "source": [
    "import nltk\n",
    "nltk.download('punkt')\n",
    "from nltk.tokenize import word_tokenize\n",
    "\n",
    "text = \"Hello, world!\"\n",
    "tokens = word_tokenize(text)\n",
    "print(tokens)\n"
   ]
  },
  {
   "cell_type": "markdown",
   "id": "2d8130b5-3848-4ded-b638-c879623ef124",
   "metadata": {},
   "source": [
    "## 2. spaCy\n",
    "- spaCy is an open-source library for advanced NLP in Python."
   ]
  },
  {
   "cell_type": "code",
   "execution_count": 3,
   "id": "44d6ee5e-483a-49fe-81bd-56d9b606221b",
   "metadata": {},
   "outputs": [
    {
     "name": "stdout",
     "output_type": "stream",
     "text": [
      "Collecting spacy\n",
      "  Downloading spacy-3.7.5-cp311-cp311-win_amd64.whl.metadata (27 kB)\n",
      "Collecting spacy-legacy<3.1.0,>=3.0.11 (from spacy)\n",
      "  Downloading spacy_legacy-3.0.12-py2.py3-none-any.whl.metadata (2.8 kB)\n",
      "Collecting spacy-loggers<2.0.0,>=1.0.0 (from spacy)\n",
      "  Downloading spacy_loggers-1.0.5-py3-none-any.whl.metadata (23 kB)\n",
      "Collecting murmurhash<1.1.0,>=0.28.0 (from spacy)\n",
      "  Downloading murmurhash-1.0.10-cp311-cp311-win_amd64.whl.metadata (2.0 kB)\n",
      "Collecting cymem<2.1.0,>=2.0.2 (from spacy)\n",
      "  Downloading cymem-2.0.8-cp311-cp311-win_amd64.whl.metadata (8.6 kB)\n",
      "Collecting preshed<3.1.0,>=3.0.2 (from spacy)\n",
      "  Downloading preshed-3.0.9-cp311-cp311-win_amd64.whl.metadata (2.2 kB)\n",
      "Collecting thinc<8.3.0,>=8.2.2 (from spacy)\n",
      "  Downloading thinc-8.2.4-cp311-cp311-win_amd64.whl.metadata (15 kB)\n",
      "Collecting wasabi<1.2.0,>=0.9.1 (from spacy)\n",
      "  Downloading wasabi-1.1.3-py3-none-any.whl.metadata (28 kB)\n",
      "Collecting srsly<3.0.0,>=2.4.3 (from spacy)\n",
      "  Downloading srsly-2.4.8-cp311-cp311-win_amd64.whl.metadata (20 kB)\n",
      "Collecting catalogue<2.1.0,>=2.0.6 (from spacy)\n",
      "  Downloading catalogue-2.0.10-py3-none-any.whl.metadata (14 kB)\n",
      "Collecting weasel<0.5.0,>=0.1.0 (from spacy)\n",
      "  Downloading weasel-0.4.1-py3-none-any.whl.metadata (4.6 kB)\n",
      "Collecting typer<1.0.0,>=0.3.0 (from spacy)\n",
      "  Downloading typer-0.12.3-py3-none-any.whl.metadata (15 kB)\n",
      "Requirement already satisfied: tqdm<5.0.0,>=4.38.0 in c:\\users\\user\\anaconda3\\lib\\site-packages (from spacy) (4.65.0)\n",
      "Requirement already satisfied: requests<3.0.0,>=2.13.0 in c:\\users\\user\\anaconda3\\lib\\site-packages (from spacy) (2.31.0)\n",
      "Requirement already satisfied: pydantic!=1.8,!=1.8.1,<3.0.0,>=1.7.4 in c:\\users\\user\\anaconda3\\lib\\site-packages (from spacy) (1.10.12)\n",
      "Requirement already satisfied: jinja2 in c:\\users\\user\\anaconda3\\lib\\site-packages (from spacy) (3.1.3)\n",
      "Requirement already satisfied: setuptools in c:\\users\\user\\anaconda3\\lib\\site-packages (from spacy) (68.2.2)\n",
      "Requirement already satisfied: packaging>=20.0 in c:\\users\\user\\anaconda3\\lib\\site-packages (from spacy) (23.1)\n",
      "Collecting langcodes<4.0.0,>=3.2.0 (from spacy)\n",
      "  Downloading langcodes-3.4.0-py3-none-any.whl.metadata (29 kB)\n",
      "Requirement already satisfied: numpy>=1.19.0 in c:\\users\\user\\anaconda3\\lib\\site-packages (from spacy) (1.26.4)\n",
      "Collecting language-data>=1.2 (from langcodes<4.0.0,>=3.2.0->spacy)\n",
      "  Downloading language_data-1.2.0-py3-none-any.whl.metadata (4.3 kB)\n",
      "Requirement already satisfied: typing-extensions>=4.2.0 in c:\\users\\user\\anaconda3\\lib\\site-packages (from pydantic!=1.8,!=1.8.1,<3.0.0,>=1.7.4->spacy) (4.9.0)\n",
      "Requirement already satisfied: charset-normalizer<4,>=2 in c:\\users\\user\\anaconda3\\lib\\site-packages (from requests<3.0.0,>=2.13.0->spacy) (2.0.4)\n",
      "Requirement already satisfied: idna<4,>=2.5 in c:\\users\\user\\anaconda3\\lib\\site-packages (from requests<3.0.0,>=2.13.0->spacy) (3.4)\n",
      "Requirement already satisfied: urllib3<3,>=1.21.1 in c:\\users\\user\\anaconda3\\lib\\site-packages (from requests<3.0.0,>=2.13.0->spacy) (2.0.7)\n",
      "Requirement already satisfied: certifi>=2017.4.17 in c:\\users\\user\\anaconda3\\lib\\site-packages (from requests<3.0.0,>=2.13.0->spacy) (2024.2.2)\n",
      "Collecting blis<0.8.0,>=0.7.8 (from thinc<8.3.0,>=8.2.2->spacy)\n",
      "  Downloading blis-0.7.11-cp311-cp311-win_amd64.whl.metadata (7.6 kB)\n",
      "Collecting confection<1.0.0,>=0.0.1 (from thinc<8.3.0,>=8.2.2->spacy)\n",
      "  Downloading confection-0.1.5-py3-none-any.whl.metadata (19 kB)\n",
      "Requirement already satisfied: colorama in c:\\users\\user\\anaconda3\\lib\\site-packages (from tqdm<5.0.0,>=4.38.0->spacy) (0.4.6)\n",
      "Requirement already satisfied: click>=8.0.0 in c:\\users\\user\\anaconda3\\lib\\site-packages (from typer<1.0.0,>=0.3.0->spacy) (8.1.7)\n",
      "Collecting shellingham>=1.3.0 (from typer<1.0.0,>=0.3.0->spacy)\n",
      "  Downloading shellingham-1.5.4-py2.py3-none-any.whl.metadata (3.5 kB)\n",
      "Requirement already satisfied: rich>=10.11.0 in c:\\users\\user\\anaconda3\\lib\\site-packages (from typer<1.0.0,>=0.3.0->spacy) (13.3.5)\n",
      "Collecting cloudpathlib<1.0.0,>=0.7.0 (from weasel<0.5.0,>=0.1.0->spacy)\n",
      "  Downloading cloudpathlib-0.18.1-py3-none-any.whl.metadata (14 kB)\n",
      "Requirement already satisfied: smart-open<8.0.0,>=5.2.1 in c:\\users\\user\\anaconda3\\lib\\site-packages (from weasel<0.5.0,>=0.1.0->spacy) (5.2.1)\n",
      "Requirement already satisfied: MarkupSafe>=2.0 in c:\\users\\user\\anaconda3\\lib\\site-packages (from jinja2->spacy) (2.1.3)\n",
      "Collecting marisa-trie>=0.7.7 (from language-data>=1.2->langcodes<4.0.0,>=3.2.0->spacy)\n",
      "  Downloading marisa_trie-1.2.0-cp311-cp311-win_amd64.whl.metadata (9.0 kB)\n",
      "Requirement already satisfied: markdown-it-py<3.0.0,>=2.2.0 in c:\\users\\user\\anaconda3\\lib\\site-packages (from rich>=10.11.0->typer<1.0.0,>=0.3.0->spacy) (2.2.0)\n",
      "Requirement already satisfied: pygments<3.0.0,>=2.13.0 in c:\\users\\user\\anaconda3\\lib\\site-packages (from rich>=10.11.0->typer<1.0.0,>=0.3.0->spacy) (2.15.1)\n",
      "Requirement already satisfied: mdurl~=0.1 in c:\\users\\user\\anaconda3\\lib\\site-packages (from markdown-it-py<3.0.0,>=2.2.0->rich>=10.11.0->typer<1.0.0,>=0.3.0->spacy) (0.1.0)\n",
      "Downloading spacy-3.7.5-cp311-cp311-win_amd64.whl (12.1 MB)\n",
      "   ---------------------------------------- 0.0/12.1 MB ? eta -:--:--\n",
      "   - -------------------------------------- 0.5/12.1 MB 14.9 MB/s eta 0:00:01\n",
      "   ------ --------------------------------- 2.0/12.1 MB 21.4 MB/s eta 0:00:01\n",
      "   ----------- ---------------------------- 3.5/12.1 MB 25.2 MB/s eta 0:00:01\n",
      "   ------------------- -------------------- 5.8/12.1 MB 33.8 MB/s eta 0:00:01\n",
      "   --------------------------- ------------ 8.3/12.1 MB 38.1 MB/s eta 0:00:01\n",
      "   ----------------------------------- ---- 10.6/12.1 MB 43.7 MB/s eta 0:00:01\n",
      "   ---------------------------------------  12.1/12.1 MB 50.4 MB/s eta 0:00:01\n",
      "   ---------------------------------------- 12.1/12.1 MB 38.6 MB/s eta 0:00:00\n",
      "Downloading catalogue-2.0.10-py3-none-any.whl (17 kB)\n",
      "Downloading cymem-2.0.8-cp311-cp311-win_amd64.whl (39 kB)\n",
      "Downloading langcodes-3.4.0-py3-none-any.whl (182 kB)\n",
      "   ---------------------------------------- 0.0/182.0 kB ? eta -:--:--\n",
      "   --------------------------------------- 182.0/182.0 kB 11.5 MB/s eta 0:00:00\n",
      "Downloading murmurhash-1.0.10-cp311-cp311-win_amd64.whl (25 kB)\n",
      "Downloading preshed-3.0.9-cp311-cp311-win_amd64.whl (122 kB)\n",
      "   ---------------------------------------- 0.0/122.3 kB ? eta -:--:--\n",
      "   ---------------------------------------- 122.3/122.3 kB 7.5 MB/s eta 0:00:00\n",
      "Downloading spacy_legacy-3.0.12-py2.py3-none-any.whl (29 kB)\n",
      "Downloading spacy_loggers-1.0.5-py3-none-any.whl (22 kB)\n",
      "Downloading srsly-2.4.8-cp311-cp311-win_amd64.whl (479 kB)\n",
      "   ---------------------------------------- 0.0/479.7 kB ? eta -:--:--\n",
      "   --------------------------------------- 479.7/479.7 kB 15.1 MB/s eta 0:00:00\n",
      "Downloading thinc-8.2.4-cp311-cp311-win_amd64.whl (1.5 MB)\n",
      "   ---------------------------------------- 0.0/1.5 MB ? eta -:--:--\n",
      "   ---------------------------------------  1.5/1.5 MB 47.2 MB/s eta 0:00:01\n",
      "   ---------------------------------------- 1.5/1.5 MB 31.3 MB/s eta 0:00:00\n",
      "Downloading typer-0.12.3-py3-none-any.whl (47 kB)\n",
      "   ---------------------------------------- 0.0/47.2 kB ? eta -:--:--\n",
      "   ---------------------------------------- 47.2/47.2 kB 2.5 MB/s eta 0:00:00\n",
      "Downloading wasabi-1.1.3-py3-none-any.whl (27 kB)\n",
      "Downloading weasel-0.4.1-py3-none-any.whl (50 kB)\n",
      "   ---------------------------------------- 0.0/50.3 kB ? eta -:--:--\n",
      "   ---------------------------------------- 50.3/50.3 kB ? eta 0:00:00\n",
      "Downloading blis-0.7.11-cp311-cp311-win_amd64.whl (6.6 MB)\n",
      "   ---------------------------------------- 0.0/6.6 MB ? eta -:--:--\n",
      "   ----------------- ---------------------- 2.8/6.6 MB 88.6 MB/s eta 0:00:01\n",
      "   ---------------------------------------  6.6/6.6 MB 83.3 MB/s eta 0:00:01\n",
      "   ---------------------------------------  6.6/6.6 MB 83.3 MB/s eta 0:00:01\n",
      "   ---------------------------------------- 6.6/6.6 MB 46.8 MB/s eta 0:00:00\n",
      "Downloading cloudpathlib-0.18.1-py3-none-any.whl (47 kB)\n",
      "   ---------------------------------------- 0.0/47.3 kB ? eta -:--:--\n",
      "   ---------------------------------------- 47.3/47.3 kB ? eta 0:00:00\n",
      "Downloading confection-0.1.5-py3-none-any.whl (35 kB)\n",
      "Downloading language_data-1.2.0-py3-none-any.whl (5.4 MB)\n",
      "   ---------------------------------------- 0.0/5.4 MB ? eta -:--:--\n",
      "   --------------------------- ------------ 3.7/5.4 MB 78.0 MB/s eta 0:00:01\n",
      "   ---------------------------------------- 5.4/5.4 MB 57.2 MB/s eta 0:00:00\n",
      "Downloading shellingham-1.5.4-py2.py3-none-any.whl (9.8 kB)\n",
      "Downloading marisa_trie-1.2.0-cp311-cp311-win_amd64.whl (152 kB)\n",
      "   ---------------------------------------- 0.0/152.6 kB ? eta -:--:--\n",
      "   ---------------------------------------- 152.6/152.6 kB ? eta 0:00:00\n",
      "Installing collected packages: cymem, wasabi, spacy-loggers, spacy-legacy, shellingham, murmurhash, marisa-trie, cloudpathlib, catalogue, blis, srsly, preshed, language-data, typer, langcodes, confection, weasel, thinc, spacy\n",
      "Successfully installed blis-0.7.11 catalogue-2.0.10 cloudpathlib-0.18.1 confection-0.1.5 cymem-2.0.8 langcodes-3.4.0 language-data-1.2.0 marisa-trie-1.2.0 murmurhash-1.0.10 preshed-3.0.9 shellingham-1.5.4 spacy-3.7.5 spacy-legacy-3.0.12 spacy-loggers-1.0.5 srsly-2.4.8 thinc-8.2.4 typer-0.12.3 wasabi-1.1.3 weasel-0.4.1\n"
     ]
    }
   ],
   "source": [
    "!pip install spacy"
   ]
  },
  {
   "cell_type": "code",
   "execution_count": 4,
   "id": "4ee2949b-773b-4d42-a766-d8fedcdf7ff0",
   "metadata": {},
   "outputs": [
    {
     "name": "stdout",
     "output_type": "stream",
     "text": [
      "Collecting en-core-web-sm==3.7.1\n",
      "  Downloading https://github.com/explosion/spacy-models/releases/download/en_core_web_sm-3.7.1/en_core_web_sm-3.7.1-py3-none-any.whl (12.8 MB)\n",
      "     ---------------------------------------- 0.0/12.8 MB ? eta -:--:--\n",
      "     ---------------------------------------- 0.0/12.8 MB ? eta -:--:--\n",
      "     --------------------------------------- 0.0/12.8 MB 325.1 kB/s eta 0:00:40\n",
      "     --------------------------------------- 0.1/12.8 MB 508.4 kB/s eta 0:00:26\n",
      "     - -------------------------------------- 0.5/12.8 MB 2.3 MB/s eta 0:00:06\n",
      "     ----- ---------------------------------- 1.7/12.8 MB 7.3 MB/s eta 0:00:02\n",
      "     ----------- ---------------------------- 3.7/12.8 MB 13.0 MB/s eta 0:00:01\n",
      "     ------------------- -------------------- 6.2/12.8 MB 18.7 MB/s eta 0:00:01\n",
      "     --------------------------- ------------ 8.7/12.8 MB 23.2 MB/s eta 0:00:01\n",
      "     ------------------------------ -------- 10.0/12.8 MB 24.6 MB/s eta 0:00:01\n",
      "     --------------------------------------  12.8/12.8 MB 54.7 MB/s eta 0:00:01\n",
      "     --------------------------------------- 12.8/12.8 MB 43.7 MB/s eta 0:00:00\n",
      "Requirement already satisfied: spacy<3.8.0,>=3.7.2 in c:\\users\\user\\anaconda3\\lib\\site-packages (from en-core-web-sm==3.7.1) (3.7.5)\n",
      "Requirement already satisfied: spacy-legacy<3.1.0,>=3.0.11 in c:\\users\\user\\anaconda3\\lib\\site-packages (from spacy<3.8.0,>=3.7.2->en-core-web-sm==3.7.1) (3.0.12)\n",
      "Requirement already satisfied: spacy-loggers<2.0.0,>=1.0.0 in c:\\users\\user\\anaconda3\\lib\\site-packages (from spacy<3.8.0,>=3.7.2->en-core-web-sm==3.7.1) (1.0.5)\n",
      "Requirement already satisfied: murmurhash<1.1.0,>=0.28.0 in c:\\users\\user\\anaconda3\\lib\\site-packages (from spacy<3.8.0,>=3.7.2->en-core-web-sm==3.7.1) (1.0.10)\n",
      "Requirement already satisfied: cymem<2.1.0,>=2.0.2 in c:\\users\\user\\anaconda3\\lib\\site-packages (from spacy<3.8.0,>=3.7.2->en-core-web-sm==3.7.1) (2.0.8)\n",
      "Requirement already satisfied: preshed<3.1.0,>=3.0.2 in c:\\users\\user\\anaconda3\\lib\\site-packages (from spacy<3.8.0,>=3.7.2->en-core-web-sm==3.7.1) (3.0.9)\n",
      "Requirement already satisfied: thinc<8.3.0,>=8.2.2 in c:\\users\\user\\anaconda3\\lib\\site-packages (from spacy<3.8.0,>=3.7.2->en-core-web-sm==3.7.1) (8.2.4)\n",
      "Requirement already satisfied: wasabi<1.2.0,>=0.9.1 in c:\\users\\user\\anaconda3\\lib\\site-packages (from spacy<3.8.0,>=3.7.2->en-core-web-sm==3.7.1) (1.1.3)\n",
      "Requirement already satisfied: srsly<3.0.0,>=2.4.3 in c:\\users\\user\\anaconda3\\lib\\site-packages (from spacy<3.8.0,>=3.7.2->en-core-web-sm==3.7.1) (2.4.8)\n",
      "Requirement already satisfied: catalogue<2.1.0,>=2.0.6 in c:\\users\\user\\anaconda3\\lib\\site-packages (from spacy<3.8.0,>=3.7.2->en-core-web-sm==3.7.1) (2.0.10)\n",
      "Requirement already satisfied: weasel<0.5.0,>=0.1.0 in c:\\users\\user\\anaconda3\\lib\\site-packages (from spacy<3.8.0,>=3.7.2->en-core-web-sm==3.7.1) (0.4.1)\n",
      "Requirement already satisfied: typer<1.0.0,>=0.3.0 in c:\\users\\user\\anaconda3\\lib\\site-packages (from spacy<3.8.0,>=3.7.2->en-core-web-sm==3.7.1) (0.12.3)\n",
      "Requirement already satisfied: tqdm<5.0.0,>=4.38.0 in c:\\users\\user\\anaconda3\\lib\\site-packages (from spacy<3.8.0,>=3.7.2->en-core-web-sm==3.7.1) (4.65.0)\n",
      "Requirement already satisfied: requests<3.0.0,>=2.13.0 in c:\\users\\user\\anaconda3\\lib\\site-packages (from spacy<3.8.0,>=3.7.2->en-core-web-sm==3.7.1) (2.31.0)\n",
      "Requirement already satisfied: pydantic!=1.8,!=1.8.1,<3.0.0,>=1.7.4 in c:\\users\\user\\anaconda3\\lib\\site-packages (from spacy<3.8.0,>=3.7.2->en-core-web-sm==3.7.1) (1.10.12)\n",
      "Requirement already satisfied: jinja2 in c:\\users\\user\\anaconda3\\lib\\site-packages (from spacy<3.8.0,>=3.7.2->en-core-web-sm==3.7.1) (3.1.3)\n",
      "Requirement already satisfied: setuptools in c:\\users\\user\\anaconda3\\lib\\site-packages (from spacy<3.8.0,>=3.7.2->en-core-web-sm==3.7.1) (68.2.2)\n",
      "Requirement already satisfied: packaging>=20.0 in c:\\users\\user\\anaconda3\\lib\\site-packages (from spacy<3.8.0,>=3.7.2->en-core-web-sm==3.7.1) (23.1)\n",
      "Requirement already satisfied: langcodes<4.0.0,>=3.2.0 in c:\\users\\user\\anaconda3\\lib\\site-packages (from spacy<3.8.0,>=3.7.2->en-core-web-sm==3.7.1) (3.4.0)\n",
      "Requirement already satisfied: numpy>=1.19.0 in c:\\users\\user\\anaconda3\\lib\\site-packages (from spacy<3.8.0,>=3.7.2->en-core-web-sm==3.7.1) (1.26.4)\n",
      "Requirement already satisfied: language-data>=1.2 in c:\\users\\user\\anaconda3\\lib\\site-packages (from langcodes<4.0.0,>=3.2.0->spacy<3.8.0,>=3.7.2->en-core-web-sm==3.7.1) (1.2.0)\n",
      "Requirement already satisfied: typing-extensions>=4.2.0 in c:\\users\\user\\anaconda3\\lib\\site-packages (from pydantic!=1.8,!=1.8.1,<3.0.0,>=1.7.4->spacy<3.8.0,>=3.7.2->en-core-web-sm==3.7.1) (4.9.0)\n",
      "Requirement already satisfied: charset-normalizer<4,>=2 in c:\\users\\user\\anaconda3\\lib\\site-packages (from requests<3.0.0,>=2.13.0->spacy<3.8.0,>=3.7.2->en-core-web-sm==3.7.1) (2.0.4)\n",
      "Requirement already satisfied: idna<4,>=2.5 in c:\\users\\user\\anaconda3\\lib\\site-packages (from requests<3.0.0,>=2.13.0->spacy<3.8.0,>=3.7.2->en-core-web-sm==3.7.1) (3.4)\n",
      "Requirement already satisfied: urllib3<3,>=1.21.1 in c:\\users\\user\\anaconda3\\lib\\site-packages (from requests<3.0.0,>=2.13.0->spacy<3.8.0,>=3.7.2->en-core-web-sm==3.7.1) (2.0.7)\n",
      "Requirement already satisfied: certifi>=2017.4.17 in c:\\users\\user\\anaconda3\\lib\\site-packages (from requests<3.0.0,>=2.13.0->spacy<3.8.0,>=3.7.2->en-core-web-sm==3.7.1) (2024.2.2)\n",
      "Requirement already satisfied: blis<0.8.0,>=0.7.8 in c:\\users\\user\\anaconda3\\lib\\site-packages (from thinc<8.3.0,>=8.2.2->spacy<3.8.0,>=3.7.2->en-core-web-sm==3.7.1) (0.7.11)\n",
      "Requirement already satisfied: confection<1.0.0,>=0.0.1 in c:\\users\\user\\anaconda3\\lib\\site-packages (from thinc<8.3.0,>=8.2.2->spacy<3.8.0,>=3.7.2->en-core-web-sm==3.7.1) (0.1.5)\n",
      "Requirement already satisfied: colorama in c:\\users\\user\\anaconda3\\lib\\site-packages (from tqdm<5.0.0,>=4.38.0->spacy<3.8.0,>=3.7.2->en-core-web-sm==3.7.1) (0.4.6)\n",
      "Requirement already satisfied: click>=8.0.0 in c:\\users\\user\\anaconda3\\lib\\site-packages (from typer<1.0.0,>=0.3.0->spacy<3.8.0,>=3.7.2->en-core-web-sm==3.7.1) (8.1.7)\n",
      "Requirement already satisfied: shellingham>=1.3.0 in c:\\users\\user\\anaconda3\\lib\\site-packages (from typer<1.0.0,>=0.3.0->spacy<3.8.0,>=3.7.2->en-core-web-sm==3.7.1) (1.5.4)\n",
      "Requirement already satisfied: rich>=10.11.0 in c:\\users\\user\\anaconda3\\lib\\site-packages (from typer<1.0.0,>=0.3.0->spacy<3.8.0,>=3.7.2->en-core-web-sm==3.7.1) (13.3.5)\n",
      "Requirement already satisfied: cloudpathlib<1.0.0,>=0.7.0 in c:\\users\\user\\anaconda3\\lib\\site-packages (from weasel<0.5.0,>=0.1.0->spacy<3.8.0,>=3.7.2->en-core-web-sm==3.7.1) (0.18.1)\n",
      "Requirement already satisfied: smart-open<8.0.0,>=5.2.1 in c:\\users\\user\\anaconda3\\lib\\site-packages (from weasel<0.5.0,>=0.1.0->spacy<3.8.0,>=3.7.2->en-core-web-sm==3.7.1) (5.2.1)\n",
      "Requirement already satisfied: MarkupSafe>=2.0 in c:\\users\\user\\anaconda3\\lib\\site-packages (from jinja2->spacy<3.8.0,>=3.7.2->en-core-web-sm==3.7.1) (2.1.3)\n",
      "Requirement already satisfied: marisa-trie>=0.7.7 in c:\\users\\user\\anaconda3\\lib\\site-packages (from language-data>=1.2->langcodes<4.0.0,>=3.2.0->spacy<3.8.0,>=3.7.2->en-core-web-sm==3.7.1) (1.2.0)\n",
      "Requirement already satisfied: markdown-it-py<3.0.0,>=2.2.0 in c:\\users\\user\\anaconda3\\lib\\site-packages (from rich>=10.11.0->typer<1.0.0,>=0.3.0->spacy<3.8.0,>=3.7.2->en-core-web-sm==3.7.1) (2.2.0)\n",
      "Requirement already satisfied: pygments<3.0.0,>=2.13.0 in c:\\users\\user\\anaconda3\\lib\\site-packages (from rich>=10.11.0->typer<1.0.0,>=0.3.0->spacy<3.8.0,>=3.7.2->en-core-web-sm==3.7.1) (2.15.1)\n",
      "Requirement already satisfied: mdurl~=0.1 in c:\\users\\user\\anaconda3\\lib\\site-packages (from markdown-it-py<3.0.0,>=2.2.0->rich>=10.11.0->typer<1.0.0,>=0.3.0->spacy<3.8.0,>=3.7.2->en-core-web-sm==3.7.1) (0.1.0)\n",
      "Installing collected packages: en-core-web-sm\n",
      "Successfully installed en-core-web-sm-3.7.1\n",
      "\u001b[38;5;2m[+] Download and installation successful\u001b[0m\n",
      "You can now load the package via spacy.load('en_core_web_sm')\n"
     ]
    }
   ],
   "source": [
    "!python -m spacy download en_core_web_sm\n"
   ]
  },
  {
   "cell_type": "code",
   "execution_count": 5,
   "id": "b826f328-3476-44af-9c5e-3f8b15932175",
   "metadata": {},
   "outputs": [
    {
     "name": "stdout",
     "output_type": "stream",
     "text": [
      "Hello PROPN ROOT\n",
      ", PUNCT punct\n",
      "world NOUN appos\n",
      "! PUNCT punct\n"
     ]
    }
   ],
   "source": [
    "import spacy\n",
    "\n",
    "nlp = spacy.load(\"en_core_web_sm\")\n",
    "doc = nlp(\"Hello, world!\")\n",
    "for token in doc:\n",
    "    print(token.text, token.pos_, token.dep_)\n"
   ]
  },
  {
   "cell_type": "markdown",
   "id": "2346a7e7-0062-44bf-b15f-e7a099e88e50",
   "metadata": {},
   "source": [
    "## 3. Gensim\n",
    "- Gensim is a library for topic modeling and document similarity analysis."
   ]
  },
  {
   "cell_type": "code",
   "execution_count": 6,
   "id": "e11c0ac9-58f9-484e-8c29-d5f2b10b4a55",
   "metadata": {},
   "outputs": [
    {
     "name": "stdout",
     "output_type": "stream",
     "text": [
      "Requirement already satisfied: gensim in c:\\users\\user\\anaconda3\\lib\\site-packages (4.3.0)\n",
      "Requirement already satisfied: numpy>=1.18.5 in c:\\users\\user\\anaconda3\\lib\\site-packages (from gensim) (1.26.4)\n",
      "Requirement already satisfied: scipy>=1.7.0 in c:\\users\\user\\anaconda3\\lib\\site-packages (from gensim) (1.11.4)\n",
      "Requirement already satisfied: smart-open>=1.8.1 in c:\\users\\user\\anaconda3\\lib\\site-packages (from gensim) (5.2.1)\n",
      "Collecting FuzzyTM>=0.4.0 (from gensim)\n",
      "  Downloading FuzzyTM-2.0.9-py3-none-any.whl.metadata (7.9 kB)\n",
      "Requirement already satisfied: pandas in c:\\users\\user\\anaconda3\\lib\\site-packages (from FuzzyTM>=0.4.0->gensim) (2.1.4)\n",
      "Collecting pyfume (from FuzzyTM>=0.4.0->gensim)\n",
      "  Downloading pyFUME-0.3.4-py3-none-any.whl.metadata (9.7 kB)\n",
      "Requirement already satisfied: python-dateutil>=2.8.2 in c:\\users\\user\\anaconda3\\lib\\site-packages (from pandas->FuzzyTM>=0.4.0->gensim) (2.8.2)\n",
      "Requirement already satisfied: pytz>=2020.1 in c:\\users\\user\\anaconda3\\lib\\site-packages (from pandas->FuzzyTM>=0.4.0->gensim) (2023.3.post1)\n",
      "Requirement already satisfied: tzdata>=2022.1 in c:\\users\\user\\anaconda3\\lib\\site-packages (from pandas->FuzzyTM>=0.4.0->gensim) (2023.3)\n",
      "Collecting scipy>=1.7.0 (from gensim)\n",
      "  Downloading scipy-1.10.1-cp311-cp311-win_amd64.whl.metadata (58 kB)\n",
      "     ---------------------------------------- 0.0/59.0 kB ? eta -:--:--\n",
      "     ------ --------------------------------- 10.2/59.0 kB ? eta -:--:--\n",
      "     -------------------------- ----------- 41.0/59.0 kB 653.6 kB/s eta 0:00:01\n",
      "     -------------------------------------- 59.0/59.0 kB 518.5 kB/s eta 0:00:00\n",
      "Collecting numpy>=1.18.5 (from gensim)\n",
      "  Downloading numpy-1.24.4-cp311-cp311-win_amd64.whl.metadata (5.6 kB)\n",
      "Collecting simpful==2.12.0 (from pyfume->FuzzyTM>=0.4.0->gensim)\n",
      "  Downloading simpful-2.12.0-py3-none-any.whl.metadata (4.8 kB)\n",
      "Collecting fst-pso==1.8.1 (from pyfume->FuzzyTM>=0.4.0->gensim)\n",
      "  Downloading fst-pso-1.8.1.tar.gz (18 kB)\n",
      "  Preparing metadata (setup.py): started\n",
      "  Preparing metadata (setup.py): finished with status 'done'\n",
      "Collecting pandas (from FuzzyTM>=0.4.0->gensim)\n",
      "  Downloading pandas-1.5.3-cp311-cp311-win_amd64.whl.metadata (12 kB)\n",
      "Collecting miniful (from fst-pso==1.8.1->pyfume->FuzzyTM>=0.4.0->gensim)\n",
      "  Downloading miniful-0.0.6.tar.gz (2.8 kB)\n",
      "  Preparing metadata (setup.py): started\n",
      "  Preparing metadata (setup.py): finished with status 'done'\n",
      "Requirement already satisfied: six>=1.5 in c:\\users\\user\\anaconda3\\lib\\site-packages (from python-dateutil>=2.8.2->pandas->FuzzyTM>=0.4.0->gensim) (1.16.0)\n",
      "Downloading FuzzyTM-2.0.9-py3-none-any.whl (31 kB)\n",
      "Downloading pyFUME-0.3.4-py3-none-any.whl (60 kB)\n",
      "   ---------------------------------------- 0.0/60.3 kB ? eta -:--:--\n",
      "   ---------------------------------------- 60.3/60.3 kB ? eta 0:00:00\n",
      "Downloading numpy-1.24.4-cp311-cp311-win_amd64.whl (14.8 MB)\n",
      "   ---------------------------------------- 0.0/14.8 MB ? eta -:--:--\n",
      "   - -------------------------------------- 0.5/14.8 MB 16.2 MB/s eta 0:00:01\n",
      "   ------ --------------------------------- 2.6/14.8 MB 27.1 MB/s eta 0:00:01\n",
      "   --------------- ------------------------ 5.7/14.8 MB 45.1 MB/s eta 0:00:01\n",
      "   ---------------------- ----------------- 8.2/14.8 MB 47.9 MB/s eta 0:00:01\n",
      "   ----------------------------- ---------- 11.0/14.8 MB 65.6 MB/s eta 0:00:01\n",
      "   ---------------------------------------  14.7/14.8 MB 72.6 MB/s eta 0:00:01\n",
      "   ---------------------------------------- 14.8/14.8 MB 54.4 MB/s eta 0:00:00\n",
      "Downloading scipy-1.10.1-cp311-cp311-win_amd64.whl (42.2 MB)\n",
      "   ---------------------------------------- 0.0/42.2 MB ? eta -:--:--\n",
      "   - -------------------------------------- 2.1/42.2 MB 65.0 MB/s eta 0:00:01\n",
      "   - -------------------------------------- 2.1/42.2 MB 65.0 MB/s eta 0:00:01\n",
      "   - -------------------------------------- 2.1/42.2 MB 65.0 MB/s eta 0:00:01\n",
      "   - -------------------------------------- 2.1/42.2 MB 65.0 MB/s eta 0:00:01\n",
      "   - -------------------------------------- 2.1/42.2 MB 65.0 MB/s eta 0:00:01\n",
      "   - -------------------------------------- 2.1/42.2 MB 65.0 MB/s eta 0:00:01\n",
      "   -- ------------------------------------- 2.2/42.2 MB 8.1 MB/s eta 0:00:05\n",
      "   -- ------------------------------------- 2.2/42.2 MB 8.1 MB/s eta 0:00:05\n",
      "   -- ------------------------------------- 2.2/42.2 MB 5.4 MB/s eta 0:00:08\n",
      "   -- ------------------------------------- 2.2/42.2 MB 4.9 MB/s eta 0:00:09\n",
      "   -- ------------------------------------- 2.3/42.2 MB 4.5 MB/s eta 0:00:09\n",
      "   -- ------------------------------------- 2.3/42.2 MB 4.1 MB/s eta 0:00:10\n",
      "   -- ------------------------------------- 2.4/42.2 MB 3.9 MB/s eta 0:00:11\n",
      "   -- ------------------------------------- 2.5/42.2 MB 3.8 MB/s eta 0:00:11\n",
      "   -- ------------------------------------- 2.7/42.2 MB 3.8 MB/s eta 0:00:11\n",
      "   -- ------------------------------------- 2.9/42.2 MB 3.9 MB/s eta 0:00:11\n",
      "   --- ------------------------------------ 3.2/42.2 MB 3.9 MB/s eta 0:00:11\n",
      "   --- ------------------------------------ 3.5/42.2 MB 4.1 MB/s eta 0:00:10\n",
      "   --- ------------------------------------ 3.9/42.2 MB 4.3 MB/s eta 0:00:09\n",
      "   --- ------------------------------------ 4.2/42.2 MB 4.3 MB/s eta 0:00:09\n",
      "   ---- ----------------------------------- 4.9/42.2 MB 4.9 MB/s eta 0:00:08\n",
      "   ------ --------------------------------- 6.7/42.2 MB 6.4 MB/s eta 0:00:06\n",
      "   -------- ------------------------------- 9.1/42.2 MB 8.3 MB/s eta 0:00:04\n",
      "   ---------- ----------------------------- 11.5/42.2 MB 9.2 MB/s eta 0:00:04\n",
      "   ---------- ----------------------------- 11.5/42.2 MB 9.2 MB/s eta 0:00:04\n",
      "   ---------- ----------------------------- 11.5/42.2 MB 9.2 MB/s eta 0:00:04\n",
      "   ---------- ----------------------------- 11.5/42.2 MB 9.2 MB/s eta 0:00:04\n",
      "   ---------- ----------------------------- 11.5/42.2 MB 9.2 MB/s eta 0:00:04\n",
      "   ---------- ----------------------------- 11.6/42.2 MB 7.6 MB/s eta 0:00:05\n",
      "   ----------- ---------------------------- 11.8/42.2 MB 7.4 MB/s eta 0:00:05\n",
      "   ----------- ---------------------------- 12.1/42.2 MB 7.1 MB/s eta 0:00:05\n",
      "   ----------- ---------------------------- 12.4/42.2 MB 8.2 MB/s eta 0:00:04\n",
      "   ------------ --------------------------- 12.8/42.2 MB 11.5 MB/s eta 0:00:03\n",
      "   ------------ --------------------------- 13.3/42.2 MB 12.6 MB/s eta 0:00:03\n",
      "   ------------- -------------------------- 13.8/42.2 MB 12.8 MB/s eta 0:00:03\n",
      "   ------------- -------------------------- 14.6/42.2 MB 13.9 MB/s eta 0:00:02\n",
      "   --------------- ------------------------ 16.6/42.2 MB 14.2 MB/s eta 0:00:02\n",
      "   ------------------ --------------------- 19.2/42.2 MB 14.2 MB/s eta 0:00:02\n",
      "   --------------------- ------------------ 22.2/42.2 MB 25.2 MB/s eta 0:00:01\n",
      "   ----------------------- ---------------- 24.6/42.2 MB 54.4 MB/s eta 0:00:01\n",
      "   ------------------------- -------------- 26.6/42.2 MB 59.5 MB/s eta 0:00:01\n",
      "   --------------------------- ------------ 29.0/42.2 MB 59.5 MB/s eta 0:00:01\n",
      "   ------------------------------ --------- 32.0/42.2 MB 59.5 MB/s eta 0:00:01\n",
      "   -------------------------------- ------- 34.5/42.2 MB 59.5 MB/s eta 0:00:01\n",
      "   ----------------------------------- ---- 37.4/42.2 MB 59.8 MB/s eta 0:00:01\n",
      "   -------------------------------------- - 40.6/42.2 MB 59.5 MB/s eta 0:00:01\n",
      "   -------------------------------------- - 40.9/42.2 MB 59.5 MB/s eta 0:00:01\n",
      "   -------------------------------------- - 40.9/42.2 MB 59.5 MB/s eta 0:00:01\n",
      "   -------------------------------------- - 40.9/42.2 MB 59.5 MB/s eta 0:00:01\n",
      "   -------------------------------------- - 40.9/42.2 MB 27.3 MB/s eta 0:00:01\n",
      "   -------------------------------------- - 41.0/42.2 MB 27.3 MB/s eta 0:00:01\n",
      "   -------------------------------------- - 41.0/42.2 MB 27.3 MB/s eta 0:00:01\n",
      "   -------------------------------------- - 41.0/42.2 MB 27.3 MB/s eta 0:00:01\n",
      "   -------------------------------------- - 41.0/42.2 MB 27.3 MB/s eta 0:00:01\n",
      "   -------------------------------------- - 41.0/42.2 MB 27.3 MB/s eta 0:00:01\n",
      "   -------------------------------------- - 41.0/42.2 MB 27.3 MB/s eta 0:00:01\n",
      "   -------------------------------------- - 41.1/42.2 MB 14.6 MB/s eta 0:00:01\n",
      "   ---------------------------------------  41.2/42.2 MB 13.4 MB/s eta 0:00:01\n",
      "   ---------------------------------------  41.8/42.2 MB 12.8 MB/s eta 0:00:01\n",
      "   ---------------------------------------  42.2/42.2 MB 12.1 MB/s eta 0:00:01\n",
      "   ---------------------------------------  42.2/42.2 MB 11.9 MB/s eta 0:00:01\n",
      "   ---------------------------------------  42.2/42.2 MB 11.9 MB/s eta 0:00:01\n",
      "   ---------------------------------------  42.2/42.2 MB 11.9 MB/s eta 0:00:01\n",
      "   ---------------------------------------- 42.2/42.2 MB 9.8 MB/s eta 0:00:00\n",
      "Downloading pandas-1.5.3-cp311-cp311-win_amd64.whl (10.3 MB)\n",
      "   ---------------------------------------- 0.0/10.3 MB ? eta -:--:--\n",
      "   - -------------------------------------- 0.4/10.3 MB 11.9 MB/s eta 0:00:01\n",
      "   --- ------------------------------------ 0.9/10.3 MB 11.7 MB/s eta 0:00:01\n",
      "   ----- ---------------------------------- 1.4/10.3 MB 11.4 MB/s eta 0:00:01\n",
      "   ------- -------------------------------- 2.0/10.3 MB 11.4 MB/s eta 0:00:01\n",
      "   --------- ------------------------------ 2.6/10.3 MB 11.7 MB/s eta 0:00:01\n",
      "   ----------- ---------------------------- 3.0/10.3 MB 11.4 MB/s eta 0:00:01\n",
      "   -------------- ------------------------- 3.8/10.3 MB 11.6 MB/s eta 0:00:01\n",
      "   ---------------- ----------------------- 4.4/10.3 MB 11.6 MB/s eta 0:00:01\n",
      "   ------------------- -------------------- 5.1/10.3 MB 11.7 MB/s eta 0:00:01\n",
      "   ---------------------- ----------------- 5.8/10.3 MB 11.3 MB/s eta 0:00:01\n",
      "   ------------------------- -------------- 6.5/10.3 MB 11.6 MB/s eta 0:00:01\n",
      "   --------------------------- ------------ 7.0/10.3 MB 11.5 MB/s eta 0:00:01\n",
      "   ----------------------------- ---------- 7.5/10.3 MB 11.4 MB/s eta 0:00:01\n",
      "   ------------------------------- -------- 8.0/10.3 MB 11.7 MB/s eta 0:00:01\n",
      "   --------------------------------- ------ 8.6/10.3 MB 11.7 MB/s eta 0:00:01\n",
      "   ------------------------------------ --- 9.3/10.3 MB 11.9 MB/s eta 0:00:01\n",
      "   -------------------------------------- - 9.9/10.3 MB 12.0 MB/s eta 0:00:01\n",
      "   ---------------------------------------  10.3/10.3 MB 12.1 MB/s eta 0:00:01\n",
      "   ---------------------------------------- 10.3/10.3 MB 11.5 MB/s eta 0:00:00\n",
      "Downloading simpful-2.12.0-py3-none-any.whl (24 kB)\n",
      "Building wheels for collected packages: fst-pso, miniful\n",
      "  Building wheel for fst-pso (setup.py): started\n",
      "  Building wheel for fst-pso (setup.py): finished with status 'done'\n",
      "  Created wheel for fst-pso: filename=fst_pso-1.8.1-py3-none-any.whl size=20451 sha256=790f1f00c89a0c83b28caf56ad1727a95f6c5bab02e752997c2bd797299ff068\n",
      "  Stored in directory: c:\\users\\user\\appdata\\local\\pip\\cache\\wheels\\69\\f5\\e5\\18ad53fe1ed6b2af9fad05ec052e4acbac8e92441df44bad2e\n",
      "  Building wheel for miniful (setup.py): started\n",
      "  Building wheel for miniful (setup.py): finished with status 'done'\n",
      "  Created wheel for miniful: filename=miniful-0.0.6-py3-none-any.whl size=3517 sha256=9fd90dbb7263b8d95e269d5fe2f4d7e44ddada4feba0d33124c9b4dcb11cc589\n",
      "  Stored in directory: c:\\users\\user\\appdata\\local\\pip\\cache\\wheels\\9d\\ff\\2f\\afe4cd56f47de147407705626517d68bea0f3b74eb1fb168e6\n",
      "Successfully built fst-pso miniful\n",
      "Installing collected packages: numpy, scipy, pandas, simpful, miniful, fst-pso, pyfume, FuzzyTM\n",
      "  Attempting uninstall: numpy\n",
      "    Found existing installation: numpy 1.26.4\n",
      "    Uninstalling numpy-1.26.4:\n",
      "      Successfully uninstalled numpy-1.26.4\n",
      "  Attempting uninstall: scipy\n",
      "    Found existing installation: scipy 1.11.4\n",
      "    Uninstalling scipy-1.11.4:\n",
      "      Successfully uninstalled scipy-1.11.4\n",
      "  Attempting uninstall: pandas\n",
      "    Found existing installation: pandas 2.1.4\n",
      "    Uninstalling pandas-2.1.4:\n",
      "      Successfully uninstalled pandas-2.1.4\n",
      "Successfully installed FuzzyTM-2.0.9 fst-pso-1.8.1 miniful-0.0.6 numpy-1.24.4 pandas-1.5.3 pyfume-0.3.4 scipy-1.10.1 simpful-2.12.0\n"
     ]
    },
    {
     "name": "stderr",
     "output_type": "stream",
     "text": [
      "  WARNING: Failed to remove contents in a temporary directory 'C:\\Users\\USER\\AppData\\Local\\Temp\\pip-uninstall-83tz80k9'.\n",
      "  You can safely remove it manually.\n",
      "  WARNING: Failed to remove contents in a temporary directory 'C:\\Users\\USER\\anaconda3\\Lib\\site-packages\\~cipy'.\n",
      "  You can safely remove it manually.\n"
     ]
    }
   ],
   "source": [
    "!pip install gensim"
   ]
  },
  {
   "cell_type": "code",
   "execution_count": 8,
   "id": "8474f291-5474-4e0d-afe4-5b627da23b51",
   "metadata": {},
   "outputs": [
    {
     "name": "stdout",
     "output_type": "stream",
     "text": [
      "[-8.7274825e-03  2.1301615e-03 -8.7354420e-04 -9.3190884e-03\n",
      " -9.4281426e-03 -1.4107180e-03  4.4324086e-03  3.7040710e-03\n",
      " -6.4986930e-03 -6.8730675e-03 -4.9994122e-03 -2.2868442e-03\n",
      " -7.2502876e-03 -9.6033178e-03 -2.7436293e-03 -8.3628409e-03\n",
      " -6.0388758e-03 -5.6709289e-03 -2.3441375e-03 -1.7069972e-03\n",
      " -8.9569986e-03 -7.3519943e-04  8.1525063e-03  7.6904297e-03\n",
      " -7.2061159e-03 -3.6668312e-03  3.1185520e-03 -9.5707225e-03\n",
      "  1.4764392e-03  6.5244664e-03  5.7464195e-03 -8.7630618e-03\n",
      " -4.5171441e-03 -8.1401607e-03  4.5956374e-05  9.2636338e-03\n",
      "  5.9733056e-03  5.0673080e-03  5.0610625e-03 -3.2429171e-03\n",
      "  9.5521836e-03 -7.3564244e-03 -7.2703874e-03 -2.2653891e-03\n",
      " -7.7856064e-04 -3.2161034e-03 -5.9258583e-04  7.4888230e-03\n",
      " -6.9751858e-04 -1.6249407e-03  2.7443992e-03 -8.3591007e-03\n",
      "  7.8558037e-03  8.5361041e-03 -9.5840869e-03  2.4462664e-03\n",
      "  9.9049713e-03 -7.6658037e-03 -6.9669187e-03 -7.7365171e-03\n",
      "  8.3959233e-03 -6.8133592e-04  9.1444086e-03 -8.1582209e-03\n",
      "  3.7430846e-03  2.6350426e-03  7.4271322e-04  2.3276759e-03\n",
      " -7.4690939e-03 -9.3583735e-03  2.3545765e-03  6.1484552e-03\n",
      "  7.9856887e-03  5.7358947e-03 -7.7733636e-04  8.3061643e-03\n",
      " -9.3363142e-03  3.4061326e-03  2.6675343e-04  3.8572443e-03\n",
      "  7.3857834e-03 -6.7251669e-03  5.5844807e-03 -9.5222248e-03\n",
      " -8.0445886e-04 -8.6887367e-03 -5.0986730e-03  9.2892265e-03\n",
      " -1.8582619e-03  2.9144264e-03  9.0712793e-03  8.9381328e-03\n",
      " -8.2084350e-03 -3.0123137e-03  9.8866057e-03  5.1044310e-03\n",
      " -1.5880871e-03 -8.6920215e-03  2.9615164e-03 -6.6758976e-03]\n"
     ]
    }
   ],
   "source": [
    "from gensim.models import Word2Vec\n",
    "\n",
    "sentences = [[\"hello\", \"world\"], [\"my\", \"name\", \"is\", \"Vamsi\"]]\n",
    "model = Word2Vec(sentences, vector_size=100, window=5, min_count=1, workers=4)\n",
    "vector = model.wv['hello']\n",
    "print(vector)\n"
   ]
  },
  {
   "cell_type": "code",
   "execution_count": null,
   "id": "5e253044-bd97-49b4-a4de-b508259b471b",
   "metadata": {},
   "outputs": [],
   "source": []
  }
 ],
 "metadata": {
  "kernelspec": {
   "display_name": "Python 3 (ipykernel)",
   "language": "python",
   "name": "python3"
  },
  "language_info": {
   "codemirror_mode": {
    "name": "ipython",
    "version": 3
   },
   "file_extension": ".py",
   "mimetype": "text/x-python",
   "name": "python",
   "nbconvert_exporter": "python",
   "pygments_lexer": "ipython3",
   "version": "3.11.7"
  }
 },
 "nbformat": 4,
 "nbformat_minor": 5
}
