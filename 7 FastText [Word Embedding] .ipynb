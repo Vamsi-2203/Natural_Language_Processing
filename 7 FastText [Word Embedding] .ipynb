{
 "cells": [
  {
   "cell_type": "markdown",
   "id": "72f8550f-28c9-4d2f-9a8d-de2db36b8eec",
   "metadata": {},
   "source": [
    "# FastText\n",
    "- FastText is an extension of Word2Vec, developed by Facebook AI Research (FAIR), which incorporates subword information into word embeddings.\n",
    "- It breaks words into smaller parts called character n-grams, allowing it to generate embeddings for out-of-vocabulary words and morphologically rich languages more effectively than traditional word embeddings."
   ]
  },
  {
   "cell_type": "markdown",
   "id": "f1a0cc90-e271-4490-ba6d-4e1f7f98eebe",
   "metadata": {},
   "source": [
    "## Key Concepts of FastText\n",
    "- **Subword Information:** Considers character n-grams to represent words, allowing it to capture morphological information.\n",
    "- **Out-of-Vocabulary (OOV) Words:** Can generate embeddings for words not seen during training by using their character n-grams.\n",
    "- **Morphologically Rich Languages:** Particularly effective for languages with complex morphology, where words share common roots or affixes."
   ]
  },
  {
   "cell_type": "code",
   "execution_count": null,
   "id": "8e10af87-9f5c-422e-a374-d0bfdf221b33",
   "metadata": {},
   "outputs": [],
   "source": []
  },
  {
   "cell_type": "markdown",
   "id": "8b4b7eaa-9de2-4db2-8213-0fe25b819b4a",
   "metadata": {},
   "source": [
    "## Implementing FastText in Python"
   ]
  },
  {
   "cell_type": "code",
   "execution_count": 1,
   "id": "3919ae00-f239-4302-927c-b1126b3e6e56",
   "metadata": {},
   "outputs": [
    {
     "name": "stderr",
     "output_type": "stream",
     "text": [
      "[nltk_data] Downloading package punkt to\n",
      "[nltk_data]     C:\\Users\\USER\\AppData\\Roaming\\nltk_data...\n",
      "[nltk_data]   Package punkt is already up-to-date!\n"
     ]
    },
    {
     "name": "stdout",
     "output_type": "stream",
     "text": [
      "FastText Vector for 'cat':\n",
      " [-1.8754165e-03 -2.3678362e-03 -1.0529048e-03  1.8630450e-03\n",
      "  2.0640636e-04  5.0583123e-05  2.9747063e-04  4.3057506e-03\n",
      "  2.4392866e-03  3.8923461e-03  5.1995553e-04 -3.2677448e-03\n",
      " -3.4944762e-03  1.9666620e-03 -2.8560491e-05  3.1827211e-03\n",
      " -4.0411949e-04  6.2053686e-04 -1.5469597e-03 -6.7263137e-04\n",
      " -9.2421717e-04  4.8000477e-03 -1.4299202e-03  1.4487315e-03\n",
      " -7.3017151e-04 -2.1995048e-03 -2.8899012e-03 -2.9135381e-03\n",
      " -7.1256474e-04  9.2400465e-04  2.2049967e-04  3.8951454e-03\n",
      "  1.0249827e-03  3.3887629e-03  1.5330126e-03 -1.0979780e-03\n",
      " -1.9355581e-04 -1.3542820e-03 -7.1068265e-04 -4.0643113e-03\n",
      " -6.0755352e-04 -4.9040904e-03 -4.2875302e-03  2.0273456e-03\n",
      " -4.6635056e-03 -1.9128687e-03 -1.4119400e-03  2.0373610e-03\n",
      " -2.4908867e-03 -2.1145806e-04 -1.7797448e-03 -4.3296893e-03\n",
      "  1.8520225e-03  2.0005328e-04  1.3031012e-04  3.2806215e-03\n",
      " -1.2613607e-03  1.4536155e-03  1.1557203e-03 -3.3751929e-03\n",
      "  1.2583283e-03  1.5714315e-03 -1.6367539e-03  2.0632986e-03\n",
      "  4.3862714e-03  2.5956170e-03 -1.4401166e-03  1.2666229e-03\n",
      "  3.0416825e-03  1.4491676e-03 -3.7504945e-04 -8.4067031e-04\n",
      " -1.0008540e-03 -3.3961325e-03 -1.2406653e-03 -1.0350376e-03\n",
      " -1.7811464e-03  7.5932633e-04  1.8376581e-03  1.6913383e-03\n",
      " -1.5345467e-03 -6.0465431e-04 -6.2428410e-03 -6.3659746e-04\n",
      " -1.1733804e-03 -3.0299069e-04  4.2607510e-04 -4.0269610e-03\n",
      " -1.2449207e-03 -3.9497390e-03 -5.1525555e-04  1.7059434e-03\n",
      "  4.8982496e-03  3.9677341e-03 -4.6503460e-03 -1.4295912e-03\n",
      " -1.2910776e-03  5.6577893e-04  2.3436360e-03  3.0201052e-03]\n",
      "Most similar words to 'cat' (FastText):\n",
      " [('cats', 0.4376163184642792), ('are', 0.12027300149202347), ('beautiful', 0.0529044009745121), ('.', 0.04494829103350639), ('very', 0.03653271496295929), ('animals', 0.005690535996109247), ('playful', -0.01053337287157774), ('my', -0.01154319941997528), ('i', -0.036020126193761826), ('dog', -0.04848051443696022)]\n"
     ]
    }
   ],
   "source": [
    "from gensim.models import FastText\n",
    "import nltk\n",
    "\n",
    "# Sample documents\n",
    "documents = [\n",
    "    \"Cats are beautiful animals.\",\n",
    "    \"Dogs are loyal and friendly animals.\",\n",
    "    \"Cats and dogs are popular pets.\",\n",
    "    \"I love my dog.\",\n",
    "    \"My cat is very playful.\"\n",
    "]\n",
    "\n",
    "# Tokenize the documents\n",
    "nltk.download('punkt')\n",
    "tokenized_docs = [nltk.word_tokenize(doc.lower()) for doc in documents]\n",
    "\n",
    "# Train the FastText model\n",
    "fasttext_model = FastText(sentences=tokenized_docs, vector_size=100, window=5, min_count=1, workers=4)\n",
    "\n",
    "# Access the vector for a specific word\n",
    "cat_vector_fasttext = fasttext_model.wv['cat']\n",
    "print(\"FastText Vector for 'cat':\\n\", cat_vector_fasttext)\n",
    "\n",
    "# Find the most similar words to 'cat'\n",
    "similar_words_fasttext = fasttext_model.wv.most_similar('cat')\n",
    "print(\"Most similar words to 'cat' (FastText):\\n\", similar_words_fasttext)\n"
   ]
  },
  {
   "cell_type": "code",
   "execution_count": null,
   "id": "84dbefec-60f9-45bd-8780-decc53c29607",
   "metadata": {},
   "outputs": [],
   "source": []
  },
  {
   "cell_type": "markdown",
   "id": "6f791bcc-4bb8-4156-ba67-a92fc34be5af",
   "metadata": {},
   "source": [
    "## Advantages of FastText\n",
    "- **Subword Information:** Captures morphological and semantic similarities between words more effectively.\n",
    "- **OOV Word Handling:** Can generate embeddings for out-of-vocabulary words based on their character n-grams.\n",
    "- **Efficient Training:** Despite the additional subword information, training FastText remains efficient."
   ]
  },
  {
   "cell_type": "code",
   "execution_count": null,
   "id": "ff8a9706-980c-4848-8d79-acd89caf819b",
   "metadata": {},
   "outputs": [],
   "source": []
  },
  {
   "cell_type": "markdown",
   "id": "89c8c68c-1497-4927-95cb-e52641defd13",
   "metadata": {},
   "source": [
    "## Considerations\n",
    "- **Training Data:** Quality and size of the training corpus significantly affect the quality of embeddings.\n",
    "- **Hyperparameters:** Parameters like vector size, window size, and minimum count need to be tuned appropriately.\n",
    "- **Preprocessing:** Proper preprocessing (tokenization, lowercasing) is still important for good results."
   ]
  },
  {
   "cell_type": "code",
   "execution_count": null,
   "id": "c09b7472-c58c-4a6c-a9f7-1bce1fbb6000",
   "metadata": {},
   "outputs": [],
   "source": []
  }
 ],
 "metadata": {
  "kernelspec": {
   "display_name": "Python 3 (ipykernel)",
   "language": "python",
   "name": "python3"
  },
  "language_info": {
   "codemirror_mode": {
    "name": "ipython",
    "version": 3
   },
   "file_extension": ".py",
   "mimetype": "text/x-python",
   "name": "python",
   "nbconvert_exporter": "python",
   "pygments_lexer": "ipython3",
   "version": "3.11.7"
  }
 },
 "nbformat": 4,
 "nbformat_minor": 5
}
