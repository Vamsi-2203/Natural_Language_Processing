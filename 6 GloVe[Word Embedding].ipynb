{
 "cells": [
  {
   "cell_type": "markdown",
   "id": "5f911d37-5c22-4b6d-b411-17411cb0008e",
   "metadata": {},
   "source": [
    "# GloVe (Global Vectors for Word Representation)\n",
    "- GloVe (Global Vectors for Word Representation) is an unsupervised learning algorithm for obtaining vector representations for words.\n",
    "- Unlike Word2Vec, which predicts local context, GloVe leverages global statistical information of a corpus by constructing a co-occurrence matrix and factorizing it to obtain word vectors.\n",
    "- Developed by researchers at Stanford, GloVe captures both local and global statistical information about words and their co-occurrence in a corpus."
   ]
  },
  {
   "cell_type": "markdown",
   "id": "8acedef8-f834-49df-8370-8fb7b432b98c",
   "metadata": {},
   "source": [
    "## Key Concepts of GloVe\n",
    "- **Co-occurrence Matrix:** Captures how frequently words appear together in a given context across the entire corpus.\n",
    "- **Word Vectors:** Obtained by factorizing the co-occurrence matrix, capturing semantic relationships between words.\n",
    "- **Global Statistics:** Uses the global co-occurrence statistics to capture information not easily captured by local context alone."
   ]
  },
  {
   "cell_type": "code",
   "execution_count": null,
   "id": "276d9c02-33c8-470c-ae10-62aae915a23a",
   "metadata": {},
   "outputs": [],
   "source": []
  },
  {
   "cell_type": "markdown",
   "id": "281562e3-ba26-4674-a278-dfb206cb3eb9",
   "metadata": {},
   "source": [
    "## Implementing GloVe in Python"
   ]
  },
  {
   "cell_type": "code",
   "execution_count": 7,
   "id": "e0897af4-9343-4c83-bd11-7eacc2cce548",
   "metadata": {},
   "outputs": [
    {
     "name": "stdout",
     "output_type": "stream",
     "text": [
      "Collecting glove\n",
      "  Using cached glove-1.0.2.tar.gz (44 kB)\n",
      "  Preparing metadata (setup.py): started\n",
      "  Preparing metadata (setup.py): finished with status 'done'\n",
      "Requirement already satisfied: numpy in c:\\users\\user\\anaconda3\\lib\\site-packages (from glove) (1.24.4)\n",
      "Building wheels for collected packages: glove\n",
      "  Building wheel for glove (setup.py): started\n",
      "  Building wheel for glove (setup.py): finished with status 'error'\n",
      "  Running setup.py clean for glove\n",
      "Failed to build glove\n"
     ]
    },
    {
     "name": "stderr",
     "output_type": "stream",
     "text": [
      "  error: subprocess-exited-with-error\n",
      "  \n",
      "  python setup.py bdist_wheel did not run successfully.\n",
      "  exit code: 1\n",
      "  \n",
      "  [85 lines of output]\n",
      "  running bdist_wheel\n",
      "  running build\n",
      "  running build_py\n",
      "  creating build\n",
      "  creating build\\lib.win-amd64-cpython-311\n",
      "  creating build\\lib.win-amd64-cpython-311\\glove\n",
      "  copying glove\\glove.py -> build\\lib.win-amd64-cpython-311\\glove\n",
      "  copying glove\\__init__.py -> build\\lib.win-amd64-cpython-311\\glove\n",
      "  running egg_info\n",
      "  writing glove.egg-info\\PKG-INFO\n",
      "  writing dependency_links to glove.egg-info\\dependency_links.txt\n",
      "  writing requirements to glove.egg-info\\requires.txt\n",
      "  writing top-level names to glove.egg-info\\top_level.txt\n",
      "  reading manifest file 'glove.egg-info\\SOURCES.txt'\n",
      "  Traceback (most recent call last):\n",
      "    File \"<string>\", line 2, in <module>\n",
      "    File \"<pip-setuptools-caller>\", line 34, in <module>\n",
      "    File \"C:\\Users\\USER\\AppData\\Local\\Temp\\pip-install-sg3yu5yo\\glove_8e6853109652471cb849e46f683f4c95\\setup.py\", line 61, in <module>\n",
      "      setup(\n",
      "    File \"C:\\Users\\USER\\anaconda3\\Lib\\site-packages\\setuptools\\__init__.py\", line 103, in setup\n",
      "      return distutils.core.setup(**attrs)\n",
      "             ^^^^^^^^^^^^^^^^^^^^^^^^^^^^^\n",
      "    File \"C:\\Users\\USER\\anaconda3\\Lib\\site-packages\\setuptools\\_distutils\\core.py\", line 185, in setup\n",
      "      return run_commands(dist)\n",
      "             ^^^^^^^^^^^^^^^^^^\n",
      "    File \"C:\\Users\\USER\\anaconda3\\Lib\\site-packages\\setuptools\\_distutils\\core.py\", line 201, in run_commands\n",
      "      dist.run_commands()\n",
      "    File \"C:\\Users\\USER\\anaconda3\\Lib\\site-packages\\setuptools\\_distutils\\dist.py\", line 969, in run_commands\n",
      "      self.run_command(cmd)\n",
      "    File \"C:\\Users\\USER\\anaconda3\\Lib\\site-packages\\setuptools\\dist.py\", line 989, in run_command\n",
      "      super().run_command(command)\n",
      "    File \"C:\\Users\\USER\\anaconda3\\Lib\\site-packages\\setuptools\\_distutils\\dist.py\", line 988, in run_command\n",
      "      cmd_obj.run()\n",
      "    File \"C:\\Users\\USER\\anaconda3\\Lib\\site-packages\\wheel\\bdist_wheel.py\", line 364, in run\n",
      "      self.run_command(\"build\")\n",
      "    File \"C:\\Users\\USER\\anaconda3\\Lib\\site-packages\\setuptools\\_distutils\\cmd.py\", line 318, in run_command\n",
      "      self.distribution.run_command(command)\n",
      "    File \"C:\\Users\\USER\\anaconda3\\Lib\\site-packages\\setuptools\\dist.py\", line 989, in run_command\n",
      "      super().run_command(command)\n",
      "    File \"C:\\Users\\USER\\anaconda3\\Lib\\site-packages\\setuptools\\_distutils\\dist.py\", line 988, in run_command\n",
      "      cmd_obj.run()\n",
      "    File \"C:\\Users\\USER\\anaconda3\\Lib\\site-packages\\setuptools\\_distutils\\command\\build.py\", line 131, in run\n",
      "      self.run_command(cmd_name)\n",
      "    File \"C:\\Users\\USER\\anaconda3\\Lib\\site-packages\\setuptools\\_distutils\\cmd.py\", line 318, in run_command\n",
      "      self.distribution.run_command(command)\n",
      "    File \"C:\\Users\\USER\\anaconda3\\Lib\\site-packages\\setuptools\\dist.py\", line 989, in run_command\n",
      "      super().run_command(command)\n",
      "    File \"C:\\Users\\USER\\anaconda3\\Lib\\site-packages\\setuptools\\_distutils\\dist.py\", line 988, in run_command\n",
      "      cmd_obj.run()\n",
      "    File \"C:\\Users\\USER\\anaconda3\\Lib\\site-packages\\setuptools\\command\\build_py.py\", line 65, in run\n",
      "      self.build_package_data()\n",
      "    File \"C:\\Users\\USER\\anaconda3\\Lib\\site-packages\\setuptools\\command\\build_py.py\", line 161, in build_package_data\n",
      "      for target, srcfile in self._get_package_data_output_mapping():\n",
      "    File \"C:\\Users\\USER\\anaconda3\\Lib\\site-packages\\setuptools\\command\\build_py.py\", line 153, in _get_package_data_output_mapping\n",
      "      for package, src_dir, build_dir, filenames in self.data_files:\n",
      "                                                    ^^^^^^^^^^^^^^^\n",
      "    File \"C:\\Users\\USER\\anaconda3\\Lib\\site-packages\\setuptools\\command\\build_py.py\", line 74, in __getattr__\n",
      "      self.data_files = self._get_data_files()\n",
      "                        ^^^^^^^^^^^^^^^^^^^^^^\n",
      "    File \"C:\\Users\\USER\\anaconda3\\Lib\\site-packages\\setuptools\\command\\build_py.py\", line 86, in _get_data_files\n",
      "      self.analyze_manifest()\n",
      "    File \"C:\\Users\\USER\\anaconda3\\Lib\\site-packages\\setuptools\\command\\build_py.py\", line 183, in analyze_manifest\n",
      "      self.run_command('egg_info')\n",
      "    File \"C:\\Users\\USER\\anaconda3\\Lib\\site-packages\\setuptools\\_distutils\\cmd.py\", line 318, in run_command\n",
      "      self.distribution.run_command(command)\n",
      "    File \"C:\\Users\\USER\\anaconda3\\Lib\\site-packages\\setuptools\\dist.py\", line 989, in run_command\n",
      "      super().run_command(command)\n",
      "    File \"C:\\Users\\USER\\anaconda3\\Lib\\site-packages\\setuptools\\_distutils\\dist.py\", line 988, in run_command\n",
      "      cmd_obj.run()\n",
      "    File \"C:\\Users\\USER\\anaconda3\\Lib\\site-packages\\setuptools\\command\\egg_info.py\", line 318, in run\n",
      "      self.find_sources()\n",
      "    File \"C:\\Users\\USER\\anaconda3\\Lib\\site-packages\\setuptools\\command\\egg_info.py\", line 326, in find_sources\n",
      "      mm.run()\n",
      "    File \"C:\\Users\\USER\\anaconda3\\Lib\\site-packages\\setuptools\\command\\egg_info.py\", line 548, in run\n",
      "      self.add_defaults()\n",
      "    File \"C:\\Users\\USER\\anaconda3\\Lib\\site-packages\\setuptools\\command\\egg_info.py\", line 593, in add_defaults\n",
      "      self.read_manifest()\n",
      "    File \"C:\\Users\\USER\\anaconda3\\Lib\\site-packages\\setuptools\\command\\sdist.py\", line 214, in read_manifest\n",
      "      self.filelist.append(line)\n",
      "    File \"C:\\Users\\USER\\anaconda3\\Lib\\site-packages\\setuptools\\command\\egg_info.py\", line 485, in append\n",
      "      path = convert_path(item)\n",
      "             ^^^^^^^^^^^^^^^^^^\n",
      "    File \"C:\\Users\\USER\\anaconda3\\Lib\\site-packages\\setuptools\\_distutils\\util.py\", line 139, in convert_path\n",
      "      raise ValueError(\"path '%s' cannot be absolute\" % pathname)\n",
      "  ValueError: path '/Users/jonathanraiman/Desktop/Coding/python_packages/glove/glove/glove_inner.cpp' cannot be absolute\n",
      "  [end of output]\n",
      "  \n",
      "  note: This error originates from a subprocess, and is likely not a problem with pip.\n",
      "  ERROR: Failed building wheel for glove\n",
      "ERROR: Could not build wheels for glove, which is required to install pyproject.toml-based projects\n"
     ]
    }
   ],
   "source": [
    "!pip install glove"
   ]
  },
  {
   "cell_type": "code",
   "execution_count": null,
   "id": "a6ecd5f9-658a-4fde-a300-48564173f12d",
   "metadata": {},
   "outputs": [],
   "source": []
  },
  {
   "cell_type": "code",
   "execution_count": 6,
   "id": "25718019-0ded-47ae-bc02-952d9478b2a3",
   "metadata": {},
   "outputs": [
    {
     "ename": "ModuleNotFoundError",
     "evalue": "No module named 'glove'",
     "output_type": "error",
     "traceback": [
      "\u001b[1;31m---------------------------------------------------------------------------\u001b[0m",
      "\u001b[1;31mModuleNotFoundError\u001b[0m                       Traceback (most recent call last)",
      "Cell \u001b[1;32mIn[6], line 1\u001b[0m\n\u001b[1;32m----> 1\u001b[0m \u001b[38;5;28;01mfrom\u001b[39;00m \u001b[38;5;21;01mglove\u001b[39;00m \u001b[38;5;28;01mimport\u001b[39;00m Corpus, Glove\n\u001b[0;32m      3\u001b[0m \u001b[38;5;66;03m# Sample documents\u001b[39;00m\n\u001b[0;32m      4\u001b[0m documents \u001b[38;5;241m=\u001b[39m [\n\u001b[0;32m      5\u001b[0m     \u001b[38;5;124m\"\u001b[39m\u001b[38;5;124mCats are beautiful animals.\u001b[39m\u001b[38;5;124m\"\u001b[39m,\n\u001b[0;32m      6\u001b[0m     \u001b[38;5;124m\"\u001b[39m\u001b[38;5;124mDogs are loyal and friendly animals.\u001b[39m\u001b[38;5;124m\"\u001b[39m,\n\u001b[1;32m   (...)\u001b[0m\n\u001b[0;32m      9\u001b[0m     \u001b[38;5;124m\"\u001b[39m\u001b[38;5;124mMy cat is very playful.\u001b[39m\u001b[38;5;124m\"\u001b[39m\n\u001b[0;32m     10\u001b[0m ]\n",
      "\u001b[1;31mModuleNotFoundError\u001b[0m: No module named 'glove'"
     ]
    }
   ],
   "source": [
    "from glove import Corpus, Glove\n",
    "\n",
    "# Sample documents\n",
    "documents = [\n",
    "    \"Cats are beautiful animals.\",\n",
    "    \"Dogs are loyal and friendly animals.\",\n",
    "    \"Cats and dogs are popular pets.\",\n",
    "    \"I love my dog.\",\n",
    "    \"My cat is very playful.\"\n",
    "]\n",
    "\n",
    "# Tokenize the documents\n",
    "nltk.download('punkt')\n",
    "tokenized_docs = [nltk.word_tokenize(doc.lower()) for doc in documents]\n",
    "\n",
    "# Create a corpus object\n",
    "corpus = Corpus()\n",
    "\n",
    "# Train the corpus to create the co-occurrence matrix\n",
    "corpus.fit(tokenized_docs, window=5)\n",
    "\n",
    "# Create and train the GloVe model\n",
    "glove = Glove(no_components=100, learning_rate=0.05)\n",
    "glove.fit(corpus.matrix, epochs=20, no_threads=4, verbose=True)\n",
    "glove.add_dictionary(corpus.dictionary)\n",
    "\n",
    "# Access the vector for a specific word\n",
    "cat_vector_glove = glove.word_vectors[glove.dictionary['cat']]\n",
    "print(\"GloVe Vector for 'cat':\\n\", cat_vector_glove)\n",
    "\n",
    "# Find the most similar words to 'cat'\n",
    "similar_words_glove = glove.most_similar('cat')\n",
    "print(\"Most similar words to 'cat' (GloVe):\\n\", similar_words_glove)\n"
   ]
  },
  {
   "cell_type": "code",
   "execution_count": null,
   "id": "30bd5bae-3207-4679-b1c2-f75f840272ef",
   "metadata": {},
   "outputs": [],
   "source": []
  },
  {
   "cell_type": "code",
   "execution_count": null,
   "id": "1878a3b6-03bf-43a9-ae63-72733ad235b4",
   "metadata": {},
   "outputs": [],
   "source": []
  }
 ],
 "metadata": {
  "kernelspec": {
   "display_name": "Python 3 (ipykernel)",
   "language": "python",
   "name": "python3"
  },
  "language_info": {
   "codemirror_mode": {
    "name": "ipython",
    "version": 3
   },
   "file_extension": ".py",
   "mimetype": "text/x-python",
   "name": "python",
   "nbconvert_exporter": "python",
   "pygments_lexer": "ipython3",
   "version": "3.11.7"
  }
 },
 "nbformat": 4,
 "nbformat_minor": 5
}
