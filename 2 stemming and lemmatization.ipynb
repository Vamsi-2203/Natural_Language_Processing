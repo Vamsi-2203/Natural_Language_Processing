{
 "cells": [
  {
   "cell_type": "code",
   "execution_count": null,
   "id": "cdcfb81d-faea-4593-8039-f80f7e7162c5",
   "metadata": {},
   "outputs": [],
   "source": []
  },
  {
   "cell_type": "code",
   "execution_count": null,
   "id": "493c4d69-e3c4-4b11-bc62-38814109e707",
   "metadata": {},
   "outputs": [],
   "source": []
  },
  {
   "cell_type": "markdown",
   "id": "6fef761d-5225-42fd-aa99-45c012680eea",
   "metadata": {},
   "source": [
    "# Stemming and lemmatization\n",
    "- Stemming and lemmatization are text normalization techniques used in natural language processing (NLP) to reduce words to their base or root form.\n",
    "- Here’s a brief overview of both, along with example implementations using popular NLP libraries."
   ]
  },
  {
   "cell_type": "markdown",
   "id": "e68d88c2-f694-4f72-85b8-dad17b2b75f1",
   "metadata": {},
   "source": [
    "## Stemming\n",
    "- Stemming is the process of reducing a word to its base or root form by removing suffixes. The result may not be an actual word but a truncated version of the original."
   ]
  },
  {
   "cell_type": "code",
   "execution_count": 1,
   "id": "ee0005ec-c78c-47c9-94fa-e751f8891c54",
   "metadata": {},
   "outputs": [
    {
     "name": "stdout",
     "output_type": "stream",
     "text": [
      "['run', 'ran', 'run', 'easili', 'fairli']\n"
     ]
    }
   ],
   "source": [
    "from nltk.stem import PorterStemmer\n",
    "\n",
    "# Create a PorterStemmer object\n",
    "stemmer = PorterStemmer()\n",
    "\n",
    "# Example words\n",
    "words = [\"running\", \"ran\", \"runs\", \"easily\", \"fairly\"]\n",
    "\n",
    "# Stem each word\n",
    "stems = [stemmer.stem(word) for word in words]\n",
    "\n",
    "print(stems)  # Output: ['run', 'ran', 'run', 'easili', 'fairli']\n"
   ]
  },
  {
   "cell_type": "code",
   "execution_count": null,
   "id": "944ef782-10c9-4a38-bf39-c37870813ccf",
   "metadata": {},
   "outputs": [],
   "source": []
  },
  {
   "cell_type": "markdown",
   "id": "284149c3-70de-4e14-ba90-c3935f331acc",
   "metadata": {},
   "source": [
    "## Lemmatization\n",
    "- Lemmatization reduces a word to its base or dictionary form, known as the lemma.\n",
    "- This process considers the context and the morphological analysis of the words, resulting in valid words."
   ]
  },
  {
   "cell_type": "code",
   "execution_count": 2,
   "id": "f1e685c8-6b5a-494d-84a9-af63ad134ed5",
   "metadata": {},
   "outputs": [
    {
     "name": "stderr",
     "output_type": "stream",
     "text": [
      "[nltk_data] Downloading package wordnet to\n",
      "[nltk_data]     C:\\Users\\USER\\AppData\\Roaming\\nltk_data...\n",
      "[nltk_data] Downloading package omw-1.4 to\n",
      "[nltk_data]     C:\\Users\\USER\\AppData\\Roaming\\nltk_data...\n"
     ]
    },
    {
     "name": "stdout",
     "output_type": "stream",
     "text": [
      "['run', 'run', 'run', 'better', 'fairly']\n"
     ]
    }
   ],
   "source": [
    "from nltk.stem import WordNetLemmatizer\n",
    "import nltk\n",
    "\n",
    "# Download WordNet data\n",
    "nltk.download('wordnet')\n",
    "nltk.download('omw-1.4')\n",
    "\n",
    "# Create a WordNetLemmatizer object\n",
    "lemmatizer = WordNetLemmatizer()\n",
    "\n",
    "# Example words\n",
    "words = [\"running\", \"ran\", \"runs\", \"better\", \"fairly\"]\n",
    "\n",
    "# Lemmatize each word\n",
    "lemmas = [lemmatizer.lemmatize(word, pos='v') for word in words]  # 'v' indicates verb\n",
    "\n",
    "print(lemmas)  # Output: ['run', 'run', 'run', 'better', 'fairly']\n"
   ]
  },
  {
   "cell_type": "code",
   "execution_count": null,
   "id": "b79829de-094e-429c-b893-e60d4ed74a63",
   "metadata": {},
   "outputs": [],
   "source": []
  },
  {
   "cell_type": "markdown",
   "id": "d87bc670-a78e-4933-994a-a6b8e7a32089",
   "metadata": {},
   "source": [
    "Differences between Stemming and Lemmatization\n",
    "\n",
    "#### Accuracy:\n",
    "\n",
    "- Stemming can produce non-existent words by chopping off parts of the word. For example, “better” might be stemmed to “bett”.\n",
    "\n",
    "- Lemmatization results in actual words by considering the morphological analysis of the word.\n",
    "\n",
    "#### Context:\n",
    "\n",
    "- Stemming does not consider the context and just removes common prefixes and suffixes.\n",
    "  \n",
    "- Lemmatization takes into account the context and part of speech, providing more accurate results.\n",
    "\n",
    "#### Complexity:\n",
    "\n",
    "- Stemming is a simpler and faster process.\n",
    "\n",
    "- Lemmatization is more complex as it requires a dictionary and understanding of the word's context."
   ]
  },
  {
   "cell_type": "code",
   "execution_count": null,
   "id": "5b9c00fb-aa22-4263-817e-f4e59604283c",
   "metadata": {},
   "outputs": [],
   "source": []
  }
 ],
 "metadata": {
  "kernelspec": {
   "display_name": "Python 3 (ipykernel)",
   "language": "python",
   "name": "python3"
  },
  "language_info": {
   "codemirror_mode": {
    "name": "ipython",
    "version": 3
   },
   "file_extension": ".py",
   "mimetype": "text/x-python",
   "name": "python",
   "nbconvert_exporter": "python",
   "pygments_lexer": "ipython3",
   "version": "3.11.7"
  }
 },
 "nbformat": 4,
 "nbformat_minor": 5
}
